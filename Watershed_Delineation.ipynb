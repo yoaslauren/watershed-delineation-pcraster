{
 "cells": [
  {
   "cell_type": "markdown",
   "id": "5037cda8-f096-41ed-924f-04614127b6ff",
   "metadata": {},
   "source": [
    "# Watershed Delineation using PCRaster\n",
    "**Project Area: Ciliwung River Basin / DAS Ciliwung, Indonesia**"
   ]
  },
  {
   "cell_type": "markdown",
   "id": "f26cea15-ba1a-4f73-b308-1dfd1de396c1",
   "metadata": {},
   "source": [
    "In this project, we will do a watershed delineation using PCRaster in Python. We will delineate the Ciliwung River Basin. Ciliwung River stretches from Jakarta Province to West Java (Jawa Barat) Province, Indonesia.\n",
    "\n",
    "<center><img src=\"Images/location.png\" width=\"800\"/></center>\n",
    "\n",
    "<div align=\"center\"><i>The map above shows the approximate location of the Ciliwung River Basin / DAS Ciliwung (red square). Source: Author.</i></div>"
   ]
  },
  {
   "cell_type": "markdown",
   "id": "3eb09b95-68ab-436c-91b1-f727da7da109",
   "metadata": {},
   "source": [
    "First of all, we need to be in the location of our data folder. In this project, the DEM files are saved in a folder named 'DEMNAS'. We will import the `os` module and change the directory to the data folder."
   ]
  },
  {
   "cell_type": "code",
   "execution_count": 1,
   "id": "6a931520-7ace-42a0-a5b0-7e026fe1a10e",
   "metadata": {},
   "outputs": [
    {
     "name": "stdout",
     "output_type": "stream",
     "text": [
      "C:\\Users\\yoasl\\Documents\\Personal_Projects\\Watershed_Delineation_using_Python\\DEMNAS\n"
     ]
    }
   ],
   "source": [
    "#File path\n",
    "import os\n",
    "os.chdir(\"./DEMNAS\") #change the directory to the data folder\n",
    "print(os.getcwd()) #check the location/path"
   ]
  },
  {
   "cell_type": "markdown",
   "id": "921a3e86-3aba-4186-a61e-f35f82d354d1",
   "metadata": {},
   "source": [
    "Once we are in the correct directory, check the DEM files that we have. We will make a list of all GeoTIFF files in that folder to make sure all the data has been there. Use `glob` function from `glob` module to search a certain file extension."
   ]
  },
  {
   "cell_type": "code",
   "execution_count": 2,
   "id": "d6575d0a-d77b-4c56-b7e7-2121503a1e70",
   "metadata": {},
   "outputs": [
    {
     "name": "stdout",
     "output_type": "stream",
     "text": [
      "['DEMNAS_1209-12_v1.0.tif', 'DEMNAS_1209-14_v1.0.tif', 'DEMNAS_1209-21_v1.0.tif', 'DEMNAS_1209-23_v1.0.tif', 'DEMNAS_1209-42_v1.0.tif', 'DEMNAS_1209-44_v1.0.tif', 'DEMNAS_1209-51_v1.0.tif', 'DEMNAS_1209-53_v1.0.tif']\n"
     ]
    }
   ],
   "source": [
    "#List of all GeoTIFF files\n",
    "import glob\n",
    "\n",
    "tifFiles = glob.glob(\"*.tif\") #this searchs for file extentions\n",
    "print(tifFiles)"
   ]
  },
  {
   "cell_type": "markdown",
   "id": "5686000a-d4a7-4913-910c-d1629da8254d",
   "metadata": {},
   "source": [
    "We use DEM from DEMNAS, which is a national database created by the Indonesia Geospatial Information Agency (BIG) that provides Digital Elevation Model (DEM) and national bathymetry for Indonesia."
   ]
  },
  {
   "cell_type": "markdown",
   "id": "b22f7fd9-74f2-4695-9f5e-1136f6c3abb6",
   "metadata": {},
   "source": [
    "Next, we will create a virtual DEM from our TIFF files. We will merge all the files to become a mosaic. Use `BuildVRT` function from GDAL to create a virtual file. Then we need to use `FlushCache` method to save it to disk."
   ]
  },
  {
   "cell_type": "code",
   "execution_count": 3,
   "id": "f1c4ea90-de26-4430-b3e2-cc802370b41d",
   "metadata": {},
   "outputs": [
    {
     "name": "stderr",
     "output_type": "stream",
     "text": [
      "C:\\Users\\yoasl\\mambaforge\\envs\\tutorials\\Lib\\site-packages\\osgeo\\gdal.py:287: FutureWarning: Neither gdal.UseExceptions() nor gdal.DontUseExceptions() has been explicitly called. In GDAL 4.0, exceptions will be enabled by default.\n",
      "  warnings.warn(\n"
     ]
    },
    {
     "data": {
      "text/plain": [
       "0"
      ]
     },
     "execution_count": 3,
     "metadata": {},
     "output_type": "execute_result"
    }
   ],
   "source": [
    "#Create a mosaic virtual file from GeoTIFF files using GDAL \n",
    "from osgeo import gdal\n",
    "mosaic = gdal.BuildVRT(\"mosaic.vrt\", tifFiles)\n",
    "mosaic.FlushCache()"
   ]
  },
  {
   "cell_type": "markdown",
   "id": "9e05d647-46cc-46ef-8d8c-558d7c06a574",
   "metadata": {},
   "source": [
    "After that, we will check the virtual DEM projection and transformation."
   ]
  },
  {
   "cell_type": "code",
   "execution_count": 4,
   "id": "fcc24bc4-ed26-4aad-957a-358473d0ee21",
   "metadata": {},
   "outputs": [
    {
     "name": "stdout",
     "output_type": "stream",
     "text": [
      "\n",
      "(106.75, 7.500750075007501e-05, 0.0, -6.0, 0.0, -7.500750075007501e-05)\n"
     ]
    }
   ],
   "source": [
    "#Check projection and transformation of the virtual layer\n",
    "ds = gdal.Open(r\"mosaic.vrt\")\n",
    "print(ds.GetProjection())\n",
    "print(ds.GetGeoTransform())"
   ]
  },
  {
   "cell_type": "markdown",
   "id": "cdebe166-5b7c-40d7-af75-dcf6718f48ed",
   "metadata": {},
   "source": [
    "From the output, we can see that the layer does not yet have projections. So we need to set the mosaic layer projection by reprojecting it. We reproject it to the default projection which is WGS 1984 / EPSG:4326. Use `gdal.Warp` function to reproject raster data."
   ]
  },
  {
   "cell_type": "code",
   "execution_count": 5,
   "id": "7fdf3f53-fec5-41a5-b48e-abe5230275e0",
   "metadata": {},
   "outputs": [],
   "source": [
    "#Reproject the virtual raster layer\n",
    "dsReprj = gdal.Warp(\"demReprj.vrt\", ds, dstSRS = \"EPSG:4326\")"
   ]
  },
  {
   "cell_type": "markdown",
   "id": "d93792bc-7945-4991-ad5e-49ad3910e75e",
   "metadata": {},
   "source": [
    "Then we check the projection of the virtual layer again to assure that our reprojection has been successfull."
   ]
  },
  {
   "cell_type": "code",
   "execution_count": 6,
   "id": "dbb4bd81-7d2e-4187-a2ec-57ba54bfaa6f",
   "metadata": {},
   "outputs": [
    {
     "name": "stdout",
     "output_type": "stream",
     "text": [
      "GEOGCS[\"WGS 84\",DATUM[\"WGS_1984\",SPHEROID[\"WGS 84\",6378137,298.257223563,AUTHORITY[\"EPSG\",\"7030\"]],AUTHORITY[\"EPSG\",\"6326\"]],PRIMEM[\"Greenwich\",0,AUTHORITY[\"EPSG\",\"8901\"]],UNIT[\"degree\",0.0174532925199433,AUTHORITY[\"EPSG\",\"9122\"]],AXIS[\"Latitude\",NORTH],AXIS[\"Longitude\",EAST],AUTHORITY[\"EPSG\",\"4326\"]]\n"
     ]
    }
   ],
   "source": [
    "#Check virtual raster projection\n",
    "print(dsReprj.GetProjection())"
   ]
  },
  {
   "cell_type": "markdown",
   "id": "817c35ee-5f3f-4029-905f-1b0d5d836191",
   "metadata": {},
   "source": [
    "Now the virtual layer has been projected to WGS 1984."
   ]
  },
  {
   "cell_type": "markdown",
   "id": "e222a047-5594-4e45-9afb-5d34736b0c28",
   "metadata": {},
   "source": [
    "Next, we will reproject and clip the DEM mosaic. We clip it to our area of interest to shorten the data processing time. We reproject the mosaic (virtual) layer and the bounding box (shapefile) to the projection of the project area. In this case, we use EPSG:32748."
   ]
  },
  {
   "cell_type": "code",
   "execution_count": 7,
   "id": "5b864782-f7f3-425f-bc8b-bee4572c5556",
   "metadata": {},
   "outputs": [],
   "source": [
    "#Create a function to reproject and subset the DEM\n",
    "def reprojectAndClip(inputraster, outputraster, projection, shapefile, resolution):\n",
    "    options = gdal.WarpOptions(cutlineDSName=shapefile, cropToCutline=True, format=\"GTIFF\", dstSRS=projection, xRes=resolution, yRes=resolution)\n",
    "    outimage = gdal.Warp(srcDSOrSrcDSTab=inputraster, destNameOrDestDS=outputraster, options=options)\n",
    "\n",
    "Mosaic = \"demReprj.vrt\"\n",
    "Polygon = \"bounding_box.shp\"\n",
    "EPSG = \"EPSG:32748\"\n",
    "spatialResolution = 10\n",
    "DEMSubset = \"DEMsubset.tif\"\n",
    "reprojectAndClip(Mosaic, DEMSubset, EPSG, Polygon, spatialResolution)"
   ]
  },
  {
   "cell_type": "markdown",
   "id": "77ed257b-7818-4a4f-a1e0-4f5a77e9a194",
   "metadata": {},
   "source": [
    "Then we can plot the result using `pyplot` from matplotlib."
   ]
  },
  {
   "cell_type": "code",
   "execution_count": 8,
   "id": "f62dba30-d3e7-4f37-aad1-69fe6c9ce300",
   "metadata": {},
   "outputs": [
    {
     "data": {
      "text/plain": [
       "<matplotlib.colorbar.Colorbar at 0x19230348c50>"
      ]
     },
     "execution_count": 8,
     "metadata": {},
     "output_type": "execute_result"
    },
    {
     "data": {
      "image/png": "[encoded data removed]",
      "text/plain": [
       "<Figure size 640x480 with 2 Axes>"
      ]
     },
     "metadata": {},
     "output_type": "display_data"
    }
   ],
   "source": [
    "import matplotlib.pyplot as plt\n",
    "\n",
    "dsDEMSubset = gdal.Open(\"DEMsubset.tif\")\n",
    "array = dsDEMSubset.GetRasterBand(1).ReadAsArray()\n",
    "plt.imshow(array)\n",
    "plt.colorbar()"
   ]
  },
  {
   "cell_type": "markdown",
   "id": "712042a5-e6bb-437c-a2a6-12de02b4fc2f",
   "metadata": {},
   "source": [
    "Next step, we will convert the DEM subset which is a continuous raster to a PCRaster scalar map. We will use `gdal.Translate` to convert it."
   ]
  },
  {
   "cell_type": "code",
   "execution_count": 9,
   "id": "0f252c37-1422-4a73-9dce-09e18d71ee58",
   "metadata": {},
   "outputs": [],
   "source": [
    "from osgeo import gdalconst\n",
    "\n",
    "def ConvertToPCRaster(src_filename, dst_filename, ot, VS):\n",
    "    #Open existing dataset\n",
    "    src_ds = gdal.Open(src_filename)\n",
    "\n",
    "    #GDAL translate\n",
    "    dst_ds = gdal.Translate(dst_filename, src_ds, format=\"PCRaster\", outputType=ot, metadataOptions=VS)\n",
    "\n",
    "    #Properly close the datasets to flush disk\n",
    "    dst_ds = None\n",
    "    src_ds = None\n",
    "\n",
    "ConvertToPCRaster(\"DEMsubset.tif\", \"dem.map\", gdalconst.GDT_Float32, \"VS_SCALAR\")"
   ]
  },
  {
   "cell_type": "markdown",
   "id": "2086f509-165c-4d94-8c4f-0392c4248e3c",
   "metadata": {},
   "source": [
    "We can see the result using `aguila` from PCRaster."
   ]
  },
  {
   "cell_type": "code",
   "execution_count": 10,
   "id": "5885267e-48d4-48de-b610-3e6a884cbf2d",
   "metadata": {},
   "outputs": [],
   "source": [
    "from pcraster import *\n",
    "DEM = readmap(\"dem.map\")\n",
    "aguila(DEM)"
   ]
  },
  {
   "cell_type": "markdown",
   "id": "6c8c7374-dae6-4cb8-8a6b-cf09377f78ee",
   "metadata": {},
   "source": [
    "<center><img src=\"Images/aguila-dem.png\"/></center>\n",
    "\n",
    "<div align=\"center\"><i>DEM Subset in PCRaster format is visualized with Aguila. Source: Author.</i></div>"
   ]
  },
  {
   "cell_type": "markdown",
   "id": "ba1e84ae-9e0d-42af-a148-96a776181983",
   "metadata": {},
   "source": [
    "After that, in order to delineate a catchment we need to know the flow direction. We will calculate the flow direction using `lddcreate` operation in PCRaster. This tool will fill the sink in the DEM, and result in a local drain direction (flow direction) map."
   ]
  },
  {
   "cell_type": "code",
   "execution_count": 11,
   "id": "baf25f23-b54e-4087-8124-79919871e298",
   "metadata": {},
   "outputs": [],
   "source": [
    "#Calculate Flow Direction\n",
    "\n",
    "FlowDirection = lddcreate(DEM, 1e31, 1e31, 1e31, 1e31) #set the thresholds to a very high number\n",
    "report(FlowDirection, \"flowdir.map\")\n",
    "aguila(FlowDirection)"
   ]
  },
  {
   "cell_type": "markdown",
   "id": "be7b0a8e-22f4-434b-8e02-1142f257e082",
   "metadata": {},
   "source": [
    "<center><img src=\"Images/aguila-flowdir.png\"/></center>\n",
    "\n",
    "<div align=\"center\"><i>Flow Direction in PCRaster format is visualized with Aguila. Source: Author.</i></div>"
   ]
  },
  {
   "cell_type": "markdown",
   "id": "85d80a61-5a29-4ff2-85a3-abac933dec71",
   "metadata": {},
   "source": [
    "If the filled DEM is needed, we can use the `lddcreatedem` tool. Create a DEM that is filled using `lddcreatedem` operation."
   ]
  },
  {
   "cell_type": "code",
   "execution_count": 13,
   "id": "c0a69a77-0cf8-4b0d-8608-b554b54f17da",
   "metadata": {},
   "outputs": [],
   "source": [
    "DEMFilled = lddcreatedem(DEM, 1e31, 1e31, 1e31, 1e31)"
   ]
  },
  {
   "cell_type": "markdown",
   "id": "8a29ebfd-8ce1-4a55-95b5-925ed253b63f",
   "metadata": {},
   "source": [
    "We can see the difference between DEM and the filled DEM by using map algebra."
   ]
  },
  {
   "cell_type": "code",
   "execution_count": 14,
   "id": "e9c4f0ec-7e9f-4d30-a49c-4ebd36e6e5e8",
   "metadata": {},
   "outputs": [],
   "source": [
    "#Calculate the difference between DEM and DEMFilled\n",
    "Difference = DEMFilled - DEM\n",
    "aguila(Difference)"
   ]
  },
  {
   "cell_type": "markdown",
   "id": "d5fdccf5-36fa-4a09-a3b2-cd6cb11e9fed",
   "metadata": {},
   "source": [
    "<center><img src=\"Images/aguila-differencedem.png\"/></center>\n",
    "\n",
    "<div align=\"center\"><i>We can see areas that are filled and how much they are filled. Source: Author.</i></div>"
   ]
  },
  {
   "cell_type": "markdown",
   "id": "824fdbe7-1009-40d4-a941-860ee91c94a2",
   "metadata": {},
   "source": [
    "Next step we will delineate the streams. We will do it by using two different methods: Strahler order and Flow accumulation.\n",
    "\n",
    "1. Strahler order method\n",
    "   \n",
    "> Use `streamorder` operation from PCRaster with the flow direction map as the input."
   ]
  },
  {
   "cell_type": "code",
   "execution_count": 15,
   "id": "e90879f4-87cf-48f6-8ab0-6effc7ae3d6d",
   "metadata": {},
   "outputs": [],
   "source": [
    "#Delineate streams\n",
    "#1. Delineate the streams using Strahler order method\n",
    "\n",
    "StrahlerOrders = streamorder(FlowDirection)\n",
    "aguila(StrahlerOrders)"
   ]
  },
  {
   "cell_type": "markdown",
   "id": "ba014f63-32ef-4ce1-98a7-1f9054e977ff",
   "metadata": {},
   "source": [
    "<center><img src=\"Images/aguila-strahler.png\"/></center>\n",
    "\n",
    "<div align=\"center\"><i>Streams from Strahler order method. Source: Author.</i></div>"
   ]
  },
  {
   "cell_type": "markdown",
   "id": "60780b1e-61df-4f9a-bba3-4bf40d97f292",
   "metadata": {},
   "source": [
    "> After that we need to determine the value from which we consider these streams a river. We will calculate maps with Strahler order 1 to maximum order and compare them with OpenStreetMap (OSM) or another base map in GIS (calibration).\n",
    "Determine the maximum Strahler order using the `mapmaximum` operation in PCRaster."
   ]
  },
  {
   "cell_type": "code",
   "execution_count": 17,
   "id": "601a694a-cdf3-48e9-a280-432c2f32c084",
   "metadata": {},
   "outputs": [],
   "source": [
    "MaximumStrahlerOrder = mapmaximum(StrahlerOrders)\n",
    "aguila(MaximumStrahlerOrder)"
   ]
  },
  {
   "cell_type": "markdown",
   "id": "0f9f877a-7c44-4dd1-b775-d504110c8f61",
   "metadata": {},
   "source": [
    "<center><img src=\"Images/aguila-maxstrahler.png\"/></center>\n",
    "\n",
    "<div align=\"center\"><i>The highest value found in the Strahler order map is 11. Source: Author.</i></div>"
   ]
  },
  {
   "cell_type": "markdown",
   "id": "5e65456b-87d5-4bb5-bda9-153cf573fda6",
   "metadata": {},
   "source": [
    "> Use `cellvalue` operation to get the value of the raster."
   ]
  },
  {
   "cell_type": "code",
   "execution_count": 18,
   "id": "9364674d-13f1-498a-8703-b5b91bac41d0",
   "metadata": {},
   "outputs": [
    {
     "name": "stdout",
     "output_type": "stream",
     "text": [
      "(11, True)\n"
     ]
    }
   ],
   "source": [
    "MaximumStrahlerOrderTuple = cellvalue(MaximumStrahlerOrder, 0, 0) #use 0 for the index refering to the first row and the first column of the input raster\n",
    "print(MaximumStrahlerOrderTuple)\n",
    "#cellvalue operation returns a tuple with two elements: the cell value and the boolean value\n",
    "#If the second element is False, the cell contains a missing value"
   ]
  },
  {
   "cell_type": "code",
   "execution_count": 19,
   "id": "64efc243-da0b-48ca-9d4c-7a15a599a94a",
   "metadata": {},
   "outputs": [
    {
     "name": "stdout",
     "output_type": "stream",
     "text": [
      "11\n"
     ]
    }
   ],
   "source": [
    "#Take the first element of the tuple to get the value\n",
    "MaximumStrahlerOrderValue = MaximumStrahlerOrderTuple[0]\n",
    "print(MaximumStrahlerOrderValue)"
   ]
  },
  {
   "cell_type": "markdown",
   "id": "470d0724-c944-4f76-b692-1a03208ab026",
   "metadata": {},
   "source": [
    "> Loop over the Strahler orders and save each map larger or equal to that order."
   ]
  },
  {
   "cell_type": "code",
   "execution_count": 20,
   "id": "5169eb14-16c0-4e13-803b-2030adc2e72a",
   "metadata": {},
   "outputs": [],
   "source": [
    "for order in range (1, MaximumStrahlerOrderValue + 1): # from 1 because the minimum value of Strahler order is 1\n",
    "    Stream = ifthen(StrahlerOrders >= order, boolean(1))\n",
    "    report(Stream, \"stream\" + str(order) + \".map\")"
   ]
  },
  {
   "cell_type": "markdown",
   "id": "a7370a64-b27d-4ba1-a1b7-664779bfda71",
   "metadata": {},
   "source": [
    "> Visualize different results using GIS and calibrate them by choosing which one best matches the river in OpenStreetMap or another satellite imagery.\n",
    "\n",
    "<center><img src=\"Images/strahlercalibration.png\"/></center>\n",
    "\n",
    "<div align=\"center\"><i>The picture shows a section of the stream order 7 (black lines) matched the river of OpenStreetMap in QGIS. Source: Author.</i></div>"
   ]
  },
  {
   "cell_type": "markdown",
   "id": "36ee9c61-4d12-4a6f-a7cc-deceac1f4ae8",
   "metadata": {},
   "source": [
    "2. Flow accumulation method\n",
    "\n",
    "> Estimate the river using the flow accumulation method. Use `accuflux` operation. `accuflux` will accumulate material (second argument) over the flow direction."
   ]
  },
  {
   "cell_type": "code",
   "execution_count": 21,
   "id": "b9f01f30-9155-4d4c-8e1b-e2c5d0408898",
   "metadata": {},
   "outputs": [],
   "source": [
    "#2. Flow accumulation method\n",
    "\n",
    "FlowAccumulation = accuflux(FlowDirection, 1) #here choose 1 unit of water all the pixels that have to be accumulated\n",
    "aguila(FlowAccumulation)"
   ]
  },
  {
   "cell_type": "markdown",
   "id": "ad9e2630-18ca-42f1-bf0c-217dd4f3ba41",
   "metadata": {},
   "source": [
    "<center><img src=\"Images/aguila-flowacc.png\"/></center>\n",
    "\n",
    "<div align=\"center\"><i>Streams from flow accumulation method. Source: Author.</i></div>"
   ]
  },
  {
   "cell_type": "markdown",
   "id": "c285285f-79f3-46d6-8e14-db78e05c8dbb",
   "metadata": {},
   "source": [
    "> Then determine the minimum flow accumulation that is considered a river."
   ]
  },
  {
   "cell_type": "code",
   "execution_count": 22,
   "id": "964a20ab-d479-40d7-9c00-5a5f85a92044",
   "metadata": {},
   "outputs": [],
   "source": [
    "RiverFlow = ifthen(FlowAccumulation > 9000, boolean(1)) #start with 9000 pixels\n",
    "aguila(RiverFlow)\n",
    "report(RiverFlow, \"riverflow.map\")"
   ]
  },
  {
   "cell_type": "markdown",
   "id": "1a67728e-7967-4ae3-a26c-f168c7e545ef",
   "metadata": {},
   "source": [
    "<center><img src=\"Images/aguila-riverflow.png\"/></center>\n",
    "\n",
    "<div align=\"center\"><i>The river flow that will be calibrated in GIS. Source: Author.</i></div>"
   ]
  },
  {
   "cell_type": "markdown",
   "id": "19a71ab1-176c-48d1-9987-9002d43c4dea",
   "metadata": {},
   "source": [
    "> After getting the result, check how well it fits with OpenStreetMap or another satellite imagery in GIS for calibration. Try with different values."
   ]
  },
  {
   "cell_type": "markdown",
   "id": "092c9081-401d-4700-9375-8b1f926cbe93",
   "metadata": {},
   "source": [
    "In this project, we will use stream 7 of the Strahler order method.\n",
    "\n",
    "When carrying out the calibration, it was found that some streams in the downstream area did not match and did not include some actual streams of the OSM. Therefore, we need to burn the stream network into that DEM using the river from the OSM.\n",
    "\n",
    "<center><img src=\"Images/calibration.png\" width=\"500\"/></center>\n",
    "\n",
    "<div align=\"center\"><i>Example of a stream that is not covered by stream 7 of the Strahler order method (indicated by the blue arrow). Source: Author.</i></div>"
   ]
  },
  {
   "cell_type": "markdown",
   "id": "9979845a-6e92-4a8c-aaee-d88de0f98428",
   "metadata": {},
   "source": [
    "The execution of burning the river to the DEM Subset is done in QGIS using the GRASS tool.\n",
    "\n",
    "<div align=\"center\">\n",
    "    <img src=\"Images/beforeburning.png\" width=\"400\"/>\n",
    "    <img src=\"Images/afterburning.png\" width=\"400\"/>\n",
    "</div>\n",
    "\n",
    "<div align=\"center\"><i>The DEM before stream burning (left) and the DEM after stream burning (right). Source: Author.</i></div>"
   ]
  },
  {
   "cell_type": "markdown",
   "id": "1bf033bd-9fc2-46e2-8271-08917e47ea70",
   "metadata": {},
   "source": [
    "We can repeat the previous steps to derive the new streams using the burnt DEM Subset."
   ]
  },
  {
   "cell_type": "code",
   "execution_count": 24,
   "id": "1368573e-627b-4a93-8aad-389738194984",
   "metadata": {},
   "outputs": [],
   "source": [
    "#Convert the burnt DEM subset to the PCRaster format using GDAL\n",
    "#Convert the burnt DEM subset which is a continuous raster to a PCRaster scalar map\n",
    "\n",
    "from osgeo import gdalconst\n",
    "\n",
    "def ConvertToPCRaster(src_filename, dst_filename, ot, VS):\n",
    "    #Open existing dataset\n",
    "    src_ds = gdal.Open(src_filename)\n",
    "\n",
    "    #GDAL translate\n",
    "    dst_ds = gdal.Translate(dst_filename, src_ds, format=\"PCRaster\", outputType=ot, metadataOptions=VS)\n",
    "\n",
    "    #Properly close the datasets to flush disk\n",
    "    dst_ds = None\n",
    "    src_ds = None\n",
    "\n",
    "ConvertToPCRaster(\"DEM_burnt.tif\", \"new_dem.map\", gdalconst.GDT_Float32, \"VS_SCALAR\")"
   ]
  },
  {
   "cell_type": "code",
   "execution_count": 25,
   "id": "af1e3130-7d7e-4acf-acea-456c3eb98f1e",
   "metadata": {},
   "outputs": [],
   "source": [
    "NewDEM = readmap(\"new_dem.map\")\n",
    "aguila(NewDEM)"
   ]
  },
  {
   "cell_type": "code",
   "execution_count": 26,
   "id": "8093def3-1054-4a20-9be3-26dd3546847b",
   "metadata": {},
   "outputs": [],
   "source": [
    "#Calculate Flow Direction\n",
    "\n",
    "#Remove the pits in the DEM and derive the flow direction using lddcreate operation in PCRaster\n",
    "\n",
    "NewFlowDirection = lddcreate(NewDEM, 1e31, 1e31, 1e31, 1e31) #set the thresholds to a very high number\n",
    "report(NewFlowDirection, \"new_flowdir.map\")\n",
    "aguila(NewFlowDirection)"
   ]
  },
  {
   "cell_type": "code",
   "execution_count": 27,
   "id": "be54e242-491b-4b5e-8529-baa77f026153",
   "metadata": {},
   "outputs": [],
   "source": [
    "#Delineate streams\n",
    "\n",
    "#1. Delineate the streams using Strahler order method\n",
    "\n",
    "NewStrahlerOrders = streamorder(NewFlowDirection)\n",
    "aguila(NewStrahlerOrders)"
   ]
  },
  {
   "cell_type": "code",
   "execution_count": null,
   "id": "b958433d-9b43-4c95-a89b-a541d266f3a1",
   "metadata": {},
   "outputs": [],
   "source": [
    "#Calculate maps with Strahler order 1 to maximum\n",
    "#Determine the maximum Strahler order by using the mapmaximum operation in PCRaster\n",
    "\n",
    "NewMaximumStrahlerOrder = mapmaximum(NewStrahlerOrders)\n",
    "aguila(NewMaximumStrahlerOrder)"
   ]
  },
  {
   "cell_type": "code",
   "execution_count": 29,
   "id": "2832a3d9-c69b-4d1a-8680-26e2d7603794",
   "metadata": {},
   "outputs": [
    {
     "name": "stdout",
     "output_type": "stream",
     "text": [
      "(11, True)\n"
     ]
    }
   ],
   "source": [
    "#Using cellvalue operation to get the value of the raster\n",
    "\n",
    "NMaximumStrahlerOrderTuple = cellvalue(NewMaximumStrahlerOrder, 0, 0) #use 0 for the index refering to the first row and the first column of the input raster\n",
    "print(NMaximumStrahlerOrderTuple)\n",
    "#cellvalue operation returns a tuple with two elements: the cell value and the boolean value\n",
    "#If the second element is False, the cell contains a missing value"
   ]
  },
  {
   "cell_type": "code",
   "execution_count": 30,
   "id": "7d51f668-b6da-4582-a366-9ddeb37edb64",
   "metadata": {},
   "outputs": [
    {
     "name": "stdout",
     "output_type": "stream",
     "text": [
      "11\n"
     ]
    }
   ],
   "source": [
    "#Take the first element of the tuple to get the value\n",
    "NMaximumStrahlerOrderValue = NMaximumStrahlerOrderTuple[0]\n",
    "print(NMaximumStrahlerOrderValue)"
   ]
  },
  {
   "cell_type": "code",
   "execution_count": 31,
   "id": "509b0c06-0b3f-483c-a8fc-e09f2c2c8395",
   "metadata": {},
   "outputs": [],
   "source": [
    "#Loop over the Strahler orders and save each map larger or equal to that order\n",
    "\n",
    "for order in range (1, NMaximumStrahlerOrderValue + 1): # from 1 because the minimum value of Strahler order is 1\n",
    "    NStream = ifthen(NewStrahlerOrders >= order, boolean(1))\n",
    "    report(NStream, \"new_stream\" + str(order) + \".map\")\n",
    "\n",
    "#Visualize the results using GIS and calibrate them again to check"
   ]
  },
  {
   "cell_type": "code",
   "execution_count": 32,
   "id": "ccd65157-0ec9-4b51-898a-4053d5a81f50",
   "metadata": {},
   "outputs": [],
   "source": [
    "#2. Flow accumulation method\n",
    "\n",
    "#Estimate the river using the flow accumulation method. Use accuflux operation\n",
    "#accuflux will accumulate material (second argument) over the flow direction\n",
    "\n",
    "NewFlowAccumulation = accuflux(NewFlowDirection, 1) #here choose 1 unit of water all the pixels that have to be accumulated\n",
    "aguila(NewFlowAccumulation)"
   ]
  },
  {
   "cell_type": "code",
   "execution_count": 33,
   "id": "d8a8c245-23dd-478e-84e0-91be321a650f",
   "metadata": {},
   "outputs": [],
   "source": [
    "#Determine the minimum flow accumulation that is considered a river\n",
    "#Compare boolean maps with a reference map\n",
    "\n",
    "NewRiverFlow = ifthen(NewFlowAccumulation > 9000, boolean(1)) #start with 9000 pixels\n",
    "\n",
    "#Check how well it fits with OSM in GIS for calibration\n",
    "aguila(NewRiverFlow)\n",
    "report(NewRiverFlow, \"new_riverflow.map\")"
   ]
  },
  {
   "cell_type": "markdown",
   "id": "8482fe98-a019-4041-8cfc-81e5cf52ff40",
   "metadata": {},
   "source": [
    "\n",
    "Next step, we will delineate the catchment of an outlet to get the watershed. In this project, we use 702364.381 and 9323575.049 as the X and Y coordinates of the outlet, respectively.\n",
    "Use `col2map` tool which reads a text file in the format x, y, and id, and converts it to a PCRaster map. The tool has arguments for the data type and needs a clone map. The outlet will be a nominal raster with one pixel and ID number.\n",
    "Use the river map for the clone map."
   ]
  },
  {
   "cell_type": "code",
   "execution_count": 35,
   "id": "a20399c5-cb50-42f4-b4ed-441f19d1ce3a",
   "metadata": {},
   "outputs": [
    {
     "name": "stdout",
     "output_type": "stream",
     "text": [
      "col2map -N location.txt location.map --clone new_stream7.map\n"
     ]
    }
   ],
   "source": [
    "#Delineate the catchment of an outlet\n",
    "\n",
    "river = readmap(\"new_stream7.map\") #the result from the Strahler method\n",
    "\n",
    "def col2map(x, y, id, datatype, clone):\n",
    "    with open(\"location.txt\", \"w\") as f:\n",
    "        f.write(str(x) + \" \" + str(y) + \" \" + str(id))\n",
    "    cmd = \"col2map -{} location.txt location.map --clone {}\".format(datatype, clone)\n",
    "    print(cmd)\n",
    "    os.system(cmd)\n",
    "    Map = readmap(\"location.map\")\n",
    "    return Map\n",
    "\n",
    "x = 702364.381\n",
    "y = 9323575.049\n",
    "id = 1\n",
    "datatype = \"N\"\n",
    "clone = \"new_stream7.map\"\n",
    "Outlet = col2map(x, y, id, datatype, clone)\n",
    "aguila(Outlet, river)"
   ]
  },
  {
   "cell_type": "markdown",
   "id": "37faa9d6-2296-4f13-91aa-d46f8adf7713",
   "metadata": {},
   "source": [
    "\n",
    "Finally, use `catchment` operation to delineate the catchment that contributes to the outlet. `catchment` operation needs the flow direction and the outlet map as input."
   ]
  },
  {
   "cell_type": "code",
   "execution_count": 36,
   "id": "fa2906f8-c0b9-4b6d-8405-7d50d4c2063e",
   "metadata": {},
   "outputs": [],
   "source": [
    "#Delineate the catchment that contributes to the outlet\n",
    "\n",
    "CiliwungCatchment = catchment(NewFlowDirection, Outlet)\n",
    "aguila(CiliwungCatchment)\n",
    "\n",
    "report(CiliwungCatchment, \"ciliwung_catchment.map\")"
   ]
  },
  {
   "cell_type": "markdown",
   "id": "46ce6510-9b87-47aa-8435-6a20e9054e93",
   "metadata": {},
   "source": [
    "We can use `plot` function to see the result (Ciliwung watershed)."
   ]
  },
  {
   "cell_type": "code",
   "execution_count": 37,
   "id": "38aab8d8-67bd-4300-8456-eeb37bff6522",
   "metadata": {
    "scrolled": true
   },
   "outputs": [
    {
     "data": {
      "image/png": "[encoded data removed]",
      "text/plain": [
       "<Figure size 640x480 with 1 Axes>"
      ]
     },
     "metadata": {},
     "output_type": "display_data"
    }
   ],
   "source": [
    "watershed = readmap(\"ciliwung_catchment.map\")\n",
    "plot(watershed)"
   ]
  },
  {
   "cell_type": "markdown",
   "id": "b6de731a-01ab-4e6a-aad5-43c1d267cdb4",
   "metadata": {},
   "source": [
    "<center><img src=\"Images/ciliwung.png\" width=\"500\"/></center>\n",
    "\n",
    "<div align=\"center\"><i>The result of the Ciliwung watershed delineation using PCRaster is exported into a map. Source: Author.</i></div>"
   ]
  }
 ],
 "metadata": {
  "kernelspec": {
   "display_name": "Python 3 (ipykernel)",
   "language": "python",
   "name": "python3"
  },
  "language_info": {
   "codemirror_mode": {
    "name": "ipython",
    "version": 3
   },
   "file_extension": ".py",
   "mimetype": "text/x-python",
   "name": "python",
   "nbconvert_exporter": "python",
   "pygments_lexer": "ipython3",
   "version": "3.11.7"
  }
 },
 "nbformat": 4,
 "nbformat_minor": 5
}
